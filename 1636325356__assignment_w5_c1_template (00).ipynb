{
 "cells": [
  {
   "cell_type": "markdown",
   "metadata": {},
   "source": [
    "Week 5, Assignment C1:\n",
    "\n",
    "Logistic Regression with Yahoo! Finance API in Python\n",
    "\n",
    "In this notebook, we will study Logistic Regression using the Yahoo! Finance API in Python.\n",
    "\n",
    "Please complete the lines bellow where you see \"#TODO\"."
   ]
  },
  {
   "cell_type": "code",
   "execution_count": 1,
   "metadata": {},
   "outputs": [
    {
     "name": "stdout",
     "output_type": "stream",
     "text": [
      "Requirement already satisfied: yfinance in c:\\users\\buhli\\anaconda3\\lib\\site-packages (0.1.64)\n",
      "Requirement already satisfied: lxml>=4.5.1 in c:\\users\\buhli\\anaconda3\\lib\\site-packages (from yfinance) (4.6.3)\n",
      "Requirement already satisfied: multitasking>=0.0.7 in c:\\users\\buhli\\anaconda3\\lib\\site-packages (from yfinance) (0.0.9)\n",
      "Requirement already satisfied: pandas>=0.24 in c:\\users\\buhli\\anaconda3\\lib\\site-packages (from yfinance) (1.2.4)\n",
      "Requirement already satisfied: requests>=2.20 in c:\\users\\buhli\\anaconda3\\lib\\site-packages (from yfinance) (2.25.1)\n",
      "Requirement already satisfied: numpy>=1.15 in c:\\users\\buhli\\anaconda3\\lib\\site-packages (from yfinance) (1.20.1)\n",
      "Requirement already satisfied: pytz>=2017.3 in c:\\users\\buhli\\anaconda3\\lib\\site-packages (from pandas>=0.24->yfinance) (2021.1)\n",
      "Requirement already satisfied: python-dateutil>=2.7.3 in c:\\users\\buhli\\anaconda3\\lib\\site-packages (from pandas>=0.24->yfinance) (2.8.1)\n",
      "Requirement already satisfied: six>=1.5 in c:\\users\\buhli\\anaconda3\\lib\\site-packages (from python-dateutil>=2.7.3->pandas>=0.24->yfinance) (1.15.0)\n",
      "Requirement already satisfied: urllib3<1.27,>=1.21.1 in c:\\users\\buhli\\anaconda3\\lib\\site-packages (from requests>=2.20->yfinance) (1.26.4)\n",
      "Requirement already satisfied: idna<3,>=2.5 in c:\\users\\buhli\\anaconda3\\lib\\site-packages (from requests>=2.20->yfinance) (2.10)\n",
      "Requirement already satisfied: certifi>=2017.4.17 in c:\\users\\buhli\\anaconda3\\lib\\site-packages (from requests>=2.20->yfinance) (2020.12.5)\n",
      "Requirement already satisfied: chardet<5,>=3.0.2 in c:\\users\\buhli\\anaconda3\\lib\\site-packages (from requests>=2.20->yfinance) (4.0.0)\n",
      "Requirement already satisfied: pandas-datareader in c:\\users\\buhli\\anaconda3\\lib\\site-packages (0.10.0)\n",
      "Requirement already satisfied: lxml in c:\\users\\buhli\\anaconda3\\lib\\site-packages (from pandas-datareader) (4.6.3)\n",
      "Requirement already satisfied: pandas>=0.23 in c:\\users\\buhli\\anaconda3\\lib\\site-packages (from pandas-datareader) (1.2.4)\n",
      "Requirement already satisfied: requests>=2.19.0 in c:\\users\\buhli\\anaconda3\\lib\\site-packages (from pandas-datareader) (2.25.1)\n",
      "Requirement already satisfied: numpy>=1.16.5 in c:\\users\\buhli\\anaconda3\\lib\\site-packages (from pandas>=0.23->pandas-datareader) (1.20.1)\n",
      "Requirement already satisfied: python-dateutil>=2.7.3 in c:\\users\\buhli\\anaconda3\\lib\\site-packages (from pandas>=0.23->pandas-datareader) (2.8.1)\n",
      "Requirement already satisfied: pytz>=2017.3 in c:\\users\\buhli\\anaconda3\\lib\\site-packages (from pandas>=0.23->pandas-datareader) (2021.1)\n",
      "Requirement already satisfied: six>=1.5 in c:\\users\\buhli\\anaconda3\\lib\\site-packages (from python-dateutil>=2.7.3->pandas>=0.23->pandas-datareader) (1.15.0)\n",
      "Requirement already satisfied: certifi>=2017.4.17 in c:\\users\\buhli\\anaconda3\\lib\\site-packages (from requests>=2.19.0->pandas-datareader) (2020.12.5)\n",
      "Requirement already satisfied: chardet<5,>=3.0.2 in c:\\users\\buhli\\anaconda3\\lib\\site-packages (from requests>=2.19.0->pandas-datareader) (4.0.0)\n",
      "Requirement already satisfied: urllib3<1.27,>=1.21.1 in c:\\users\\buhli\\anaconda3\\lib\\site-packages (from requests>=2.19.0->pandas-datareader) (1.26.4)\n",
      "Requirement already satisfied: idna<3,>=2.5 in c:\\users\\buhli\\anaconda3\\lib\\site-packages (from requests>=2.19.0->pandas-datareader) (2.10)\n"
     ]
    }
   ],
   "source": [
    "!pip install yfinance\n",
    "!pip install pandas-datareader"
   ]
  },
  {
   "cell_type": "code",
   "execution_count": 2,
   "metadata": {},
   "outputs": [],
   "source": [
    "#Objective 1.\n",
    "#Use this cell to import the Numpy (as np), Pandas (as pd), and YFinance (as yf) packages.\n",
    "\n",
    "import numpy as np\n",
    "import pandas as pd\n",
    "import yfinance as yf\n",
    "\n",
    "#Our work will also require some components of the Sklearn and Pandas_Datareader packages as imported below:\n",
    "\n",
    "from sklearn.linear_model import LogisticRegression\n",
    "from sklearn import metrics\n",
    "from sklearn.model_selection import cross_val_score\n",
    "from pandas_datareader import data as pdr\n",
    "yf.pdr_override()"
   ]
  },
  {
   "cell_type": "code",
   "execution_count": 3,
   "metadata": {},
   "outputs": [],
   "source": [
    "#Objective 2.\n",
    "#Select a stock symbol for a stock whose historical data is available on the Yahoo! Finance website.  Store the\n",
    "#string of your chosen symbol to the new variable \"stock_symbol\".\n",
    "\n",
    "stock_symbol = \"IBM\""
   ]
  },
  {
   "cell_type": "code",
   "execution_count": 4,
   "metadata": {},
   "outputs": [
    {
     "name": "stdout",
     "output_type": "stream",
     "text": [
      "[*********************100%***********************]  1 of 1 completed\n"
     ]
    }
   ],
   "source": [
    "#Objective 3.\n",
    "#Use the function \"pdr.get_data_yahoo(stock_symbol, start_date, end_date)\" to generate a Pandas dataframe of\n",
    "#historical stock data for your chosen stock.  Retain only the first four columns of the dataframe.  Be sure to \n",
    "#drop any rows containing NaN's, and take a peek at the resulting dataframe to make sure everything looks good.\n",
    "\n",
    "df = yf.download(stock_symbol, \"2017-12-29\", \"2021-1-1\")\n",
    "df = df[[\"Open\", \"High\", \"Low\", \"Close\"]]\n",
    "df = df.dropna()"
   ]
  },
  {
   "cell_type": "code",
   "execution_count": 5,
   "metadata": {},
   "outputs": [
    {
     "data": {
      "text/html": [
       "<div>\n",
       "<style scoped>\n",
       "    .dataframe tbody tr th:only-of-type {\n",
       "        vertical-align: middle;\n",
       "    }\n",
       "\n",
       "    .dataframe tbody tr th {\n",
       "        vertical-align: top;\n",
       "    }\n",
       "\n",
       "    .dataframe thead th {\n",
       "        text-align: right;\n",
       "    }\n",
       "</style>\n",
       "<table border=\"1\" class=\"dataframe\">\n",
       "  <thead>\n",
       "    <tr style=\"text-align: right;\">\n",
       "      <th></th>\n",
       "      <th>Open</th>\n",
       "      <th>High</th>\n",
       "      <th>Low</th>\n",
       "      <th>Close</th>\n",
       "      <th>Close_15_Rolling</th>\n",
       "      <th>Open_1_Change</th>\n",
       "    </tr>\n",
       "    <tr>\n",
       "      <th>Date</th>\n",
       "      <th></th>\n",
       "      <th></th>\n",
       "      <th></th>\n",
       "      <th></th>\n",
       "      <th></th>\n",
       "      <th></th>\n",
       "    </tr>\n",
       "  </thead>\n",
       "  <tbody>\n",
       "    <tr>\n",
       "      <th>2018-01-19</th>\n",
       "      <td>157.227539</td>\n",
       "      <td>158.126190</td>\n",
       "      <td>154.206497</td>\n",
       "      <td>155.229446</td>\n",
       "      <td>154.697261</td>\n",
       "      <td>-5.296356</td>\n",
       "    </tr>\n",
       "    <tr>\n",
       "      <th>2018-01-22</th>\n",
       "      <td>154.407272</td>\n",
       "      <td>156.768646</td>\n",
       "      <td>154.024857</td>\n",
       "      <td>155.449326</td>\n",
       "      <td>155.242830</td>\n",
       "      <td>-2.820267</td>\n",
       "    </tr>\n",
       "    <tr>\n",
       "      <th>2018-01-23</th>\n",
       "      <td>155.659653</td>\n",
       "      <td>158.948380</td>\n",
       "      <td>155.363297</td>\n",
       "      <td>158.938812</td>\n",
       "      <td>156.060549</td>\n",
       "      <td>1.252380</td>\n",
       "    </tr>\n",
       "    <tr>\n",
       "      <th>2018-01-24</th>\n",
       "      <td>159.416824</td>\n",
       "      <td>161.300186</td>\n",
       "      <td>157.571701</td>\n",
       "      <td>158.097519</td>\n",
       "      <td>156.769281</td>\n",
       "      <td>3.757172</td>\n",
       "    </tr>\n",
       "    <tr>\n",
       "      <th>2018-01-25</th>\n",
       "      <td>158.613770</td>\n",
       "      <td>159.445511</td>\n",
       "      <td>157.925430</td>\n",
       "      <td>158.193115</td>\n",
       "      <td>157.214150</td>\n",
       "      <td>-0.803055</td>\n",
       "    </tr>\n",
       "    <tr>\n",
       "      <th>...</th>\n",
       "      <td>...</td>\n",
       "      <td>...</td>\n",
       "      <td>...</td>\n",
       "      <td>...</td>\n",
       "      <td>...</td>\n",
       "      <td>...</td>\n",
       "    </tr>\n",
       "    <tr>\n",
       "      <th>2020-12-24</th>\n",
       "      <td>119.502869</td>\n",
       "      <td>119.598473</td>\n",
       "      <td>118.747612</td>\n",
       "      <td>119.206497</td>\n",
       "      <td>119.543020</td>\n",
       "      <td>1.070747</td>\n",
       "    </tr>\n",
       "    <tr>\n",
       "      <th>2020-12-28</th>\n",
       "      <td>119.598473</td>\n",
       "      <td>121.032501</td>\n",
       "      <td>118.986618</td>\n",
       "      <td>119.330788</td>\n",
       "      <td>119.391331</td>\n",
       "      <td>0.095604</td>\n",
       "    </tr>\n",
       "    <tr>\n",
       "      <th>2020-12-29</th>\n",
       "      <td>119.837479</td>\n",
       "      <td>119.961761</td>\n",
       "      <td>117.820267</td>\n",
       "      <td>118.355644</td>\n",
       "      <td>119.333970</td>\n",
       "      <td>0.239006</td>\n",
       "    </tr>\n",
       "    <tr>\n",
       "      <th>2020-12-30</th>\n",
       "      <td>118.355644</td>\n",
       "      <td>119.359467</td>\n",
       "      <td>118.193115</td>\n",
       "      <td>118.871895</td>\n",
       "      <td>119.246654</td>\n",
       "      <td>-1.481834</td>\n",
       "    </tr>\n",
       "    <tr>\n",
       "      <th>2020-12-31</th>\n",
       "      <td>118.757172</td>\n",
       "      <td>120.487572</td>\n",
       "      <td>118.537285</td>\n",
       "      <td>120.344170</td>\n",
       "      <td>119.188655</td>\n",
       "      <td>0.401527</td>\n",
       "    </tr>\n",
       "  </tbody>\n",
       "</table>\n",
       "<p>744 rows × 6 columns</p>\n",
       "</div>"
      ],
      "text/plain": [
       "                  Open        High         Low       Close  Close_15_Rolling  \\\n",
       "Date                                                                           \n",
       "2018-01-19  157.227539  158.126190  154.206497  155.229446        154.697261   \n",
       "2018-01-22  154.407272  156.768646  154.024857  155.449326        155.242830   \n",
       "2018-01-23  155.659653  158.948380  155.363297  158.938812        156.060549   \n",
       "2018-01-24  159.416824  161.300186  157.571701  158.097519        156.769281   \n",
       "2018-01-25  158.613770  159.445511  157.925430  158.193115        157.214150   \n",
       "...                ...         ...         ...         ...               ...   \n",
       "2020-12-24  119.502869  119.598473  118.747612  119.206497        119.543020   \n",
       "2020-12-28  119.598473  121.032501  118.986618  119.330788        119.391331   \n",
       "2020-12-29  119.837479  119.961761  117.820267  118.355644        119.333970   \n",
       "2020-12-30  118.355644  119.359467  118.193115  118.871895        119.246654   \n",
       "2020-12-31  118.757172  120.487572  118.537285  120.344170        119.188655   \n",
       "\n",
       "            Open_1_Change  \n",
       "Date                       \n",
       "2018-01-19      -5.296356  \n",
       "2018-01-22      -2.820267  \n",
       "2018-01-23       1.252380  \n",
       "2018-01-24       3.757172  \n",
       "2018-01-25      -0.803055  \n",
       "...                   ...  \n",
       "2020-12-24       1.070747  \n",
       "2020-12-28       0.095604  \n",
       "2020-12-29       0.239006  \n",
       "2020-12-30      -1.481834  \n",
       "2020-12-31       0.401527  \n",
       "\n",
       "[744 rows x 6 columns]"
      ]
     },
     "execution_count": 5,
     "metadata": {},
     "output_type": "execute_result"
    }
   ],
   "source": [
    "#Objective 4.\n",
    "#Use the historical data to define some predictor variables.  Add these variables to the dataframe.  Include, at a\n",
    "#minimum, (Predictor.I) the rolling average closing price over the past fifteen (15) days and (Predictor.II) the\n",
    "#change in opening price over the past one (1) day.  Be sure to again drop any rows containing NaN's, and take a\n",
    "#peek at the resulting dataframe to make sure everything looks good.  Store the dataframe as the new variable \"X\".\n",
    "\n",
    "df['Close_15_Rolling'] = df[\"Close\"].rolling(window=15).mean() # Average last 15 days\n",
    "                    # = df[\"Close\"] - df[\"Close\"].shift(1)\n",
    "df['Open_1_Change'] = df[\"Open\"].diff(1) # Today - Yesterday\n",
    "df = df.dropna()\n",
    "X = df.copy()\n",
    "X"
   ]
  },
  {
   "cell_type": "code",
   "execution_count": 6,
   "metadata": {},
   "outputs": [
    {
     "data": {
      "text/plain": [
       "array([ 1,  1, -1,  1,  1, -1, -1,  1, -1, -1, -1,  1, -1, -1,  1,  1, -1,\n",
       "        1,  1,  1, -1, -1, -1,  1,  1, -1, -1, -1,  1,  1, -1,  1, -1,  1,\n",
       "        1, -1, -1,  1,  1, -1, -1,  1, -1, -1,  1, -1,  1,  1, -1, -1,  1,\n",
       "       -1, -1,  1,  1, -1,  1, -1,  1,  1, -1, -1, -1,  1, -1,  1,  1, -1,\n",
       "       -1,  1, -1, -1,  1, -1, -1, -1,  1, -1,  1, -1,  1, -1, -1,  1, -1,\n",
       "       -1, -1, -1, -1,  1, -1,  1,  1,  1,  1,  1,  1,  1,  1, -1, -1,  1,\n",
       "       -1, -1, -1, -1,  1, -1,  1, -1,  1, -1,  1, -1,  1,  1,  1,  1,  1,\n",
       "        1, -1, -1, -1,  1,  1, -1, -1,  1,  1,  1, -1,  1, -1, -1, -1,  1,\n",
       "       -1,  1, -1, -1, -1, -1,  1,  1,  1,  1,  1, -1, -1,  1,  1,  1, -1,\n",
       "        1, -1,  1, -1,  1, -1, -1,  1,  1,  1,  1, -1, -1,  1,  1,  1,  1,\n",
       "       -1, -1,  1, -1, -1,  1,  1, -1, -1, -1, -1, -1, -1, -1,  1,  1,  1,\n",
       "       -1, -1, -1,  1,  1, -1, -1, -1, -1, -1,  1,  1, -1,  1,  1,  1, -1,\n",
       "        1, -1, -1, -1,  1,  1, -1, -1,  1, -1,  1,  1,  1, -1,  1,  1, -1,\n",
       "        1, -1,  1, -1,  1, -1, -1, -1,  1, -1, -1, -1, -1,  1,  1, -1,  1,\n",
       "        1, -1,  1,  1,  1,  1,  1, -1, -1,  1, -1,  1,  1, -1,  1, -1,  1,\n",
       "        1,  1,  1,  1, -1,  1,  1,  1, -1,  1,  1,  1,  1, -1,  1,  1, -1,\n",
       "       -1,  1,  1,  1, -1, -1,  1, -1, -1, -1, -1, -1,  1,  1,  1,  1,  1,\n",
       "        1,  1, -1,  1, -1, -1,  1, -1,  1,  1,  1, -1,  1, -1,  1,  1, -1,\n",
       "        1,  1,  1, -1,  1, -1,  1, -1,  1, -1, -1,  1, -1,  1,  1, -1,  1,\n",
       "        1, -1,  1, -1, -1, -1,  1,  1,  1, -1,  1,  1, -1, -1, -1, -1, -1,\n",
       "       -1, -1,  1,  1, -1,  1,  1,  1,  1, -1,  1, -1, -1,  1,  1,  1,  1,\n",
       "        1, -1,  1, -1, -1,  1,  1,  1, -1, -1, -1,  1,  1,  1,  1,  1, -1,\n",
       "        1,  1,  1,  1, -1,  1,  1, -1, -1, -1,  1, -1, -1, -1, -1,  1, -1,\n",
       "       -1,  1, -1,  1,  1,  1, -1,  1,  1, -1,  1,  1,  1,  1,  1, -1,  1,\n",
       "        1, -1,  1,  1, -1,  1,  1, -1, -1,  1,  1, -1,  1, -1,  1,  1, -1,\n",
       "        1, -1, -1,  1,  1, -1, -1,  1,  1,  1, -1,  1, -1, -1, -1, -1,  1,\n",
       "        1, -1,  1,  1, -1,  1, -1,  1,  1,  1,  1, -1, -1, -1,  1, -1, -1,\n",
       "        1, -1,  1, -1,  1,  1,  1, -1, -1,  1, -1, -1, -1, -1,  1,  1, -1,\n",
       "       -1,  1, -1, -1,  1,  1,  1,  1, -1, -1, -1,  1, -1,  1,  1, -1, -1,\n",
       "        1,  1,  1, -1, -1, -1,  1,  1,  1,  1,  1, -1, -1, -1,  1, -1, -1,\n",
       "        1,  1,  1,  1,  1, -1,  1, -1,  1, -1, -1,  1, -1,  1, -1, -1, -1,\n",
       "       -1, -1, -1,  1, -1,  1, -1, -1, -1,  1, -1, -1,  1, -1,  1, -1, -1,\n",
       "       -1, -1,  1,  1,  1, -1,  1, -1, -1,  1, -1,  1,  1,  1,  1, -1,  1,\n",
       "       -1, -1,  1,  1, -1,  1,  1,  1,  1,  1,  1, -1, -1, -1,  1,  1, -1,\n",
       "        1, -1, -1, -1,  1,  1,  1, -1,  1, -1, -1,  1,  1, -1,  1, -1,  1,\n",
       "        1, -1,  1,  1, -1, -1, -1,  1, -1,  1, -1,  1, -1, -1, -1, -1,  1,\n",
       "       -1,  1,  1, -1,  1,  1, -1,  1, -1,  1,  1,  1,  1,  1,  1,  1, -1,\n",
       "        1, -1, -1,  1, -1,  1, -1,  1,  1,  1, -1,  1, -1,  1, -1, -1, -1,\n",
       "        1, -1,  1, -1, -1,  1,  1, -1, -1,  1,  1, -1,  1,  1, -1, -1, -1,\n",
       "        1, -1,  1,  1,  1,  1,  1, -1, -1,  1, -1, -1,  1,  1, -1,  1, -1,\n",
       "       -1,  1, -1,  1,  1, -1, -1, -1,  1, -1,  1, -1, -1, -1,  1,  1, -1,\n",
       "       -1, -1,  1,  1,  1,  1, -1,  1, -1,  1,  1, -1, -1,  1,  1, -1, -1,\n",
       "        1, -1,  1,  1, -1,  1, -1, -1,  1, -1,  1, -1,  1,  1, -1, -1, -1,\n",
       "        1, -1, -1,  1, -1,  1,  1,  1,  1, -1,  1,  1, -1])"
      ]
     },
     "execution_count": 6,
     "metadata": {},
     "output_type": "execute_result"
    }
   ],
   "source": [
    "#Objective 5.\n",
    "#Define the target or dependent variable to be one (1) if the change in closing price over the past one (1) day is\n",
    "#nonnegative and negative one (-1) if the change in closing price over the past one (1) day is negative.  This\n",
    "#variable's values should be forward-looking (i.e., you should subtract today's price from tomorrow's price rather\n",
    "#than subtracting yesterday's price from today's price).  Store the resulting values as the new variable \"y\".  You\n",
    "#may find the \"np.where(*args)\" function to be useful.  Look it up in Numpy documentation for support.\n",
    "            # Shift, rolling, diff, \n",
    "            # + => pervious values\n",
    "            # - => future values\n",
    "            # Close Price Only\n",
    "            # Tomorrow -  Today\n",
    "            # Tomorrow > Today =   1\n",
    "            # Tomorrow <= Today = -1\n",
    "            # A > B\n",
    "            # A - B > 0\n",
    "y = np.where(df[\"Close\"].shift(-1) > df[\"Close\"], 1, -1)\n",
    "y"
   ]
  },
  {
   "cell_type": "code",
   "execution_count": 7,
   "metadata": {},
   "outputs": [],
   "source": [
    "#Objective 6.\n",
    "#Split the data into training and test sets, putting the first seventy percent (70%) of the data in the training\n",
    "#set.\n",
    "\n",
    "index = int(0.7*len(X)) # Split into 70% Training\n",
    "X_train = X[0:index]\n",
    "X_test = X[index:]\n",
    "y_train = y[0:index]\n",
    "y_test =  y[index:]"
   ]
  },
  {
   "cell_type": "code",
   "execution_count": 8,
   "metadata": {},
   "outputs": [
    {
     "name": "stderr",
     "output_type": "stream",
     "text": [
      "C:\\Users\\buhli\\anaconda3\\lib\\site-packages\\sklearn\\linear_model\\_logistic.py:763: ConvergenceWarning: lbfgs failed to converge (status=1):\n",
      "STOP: TOTAL NO. of ITERATIONS REACHED LIMIT.\n",
      "\n",
      "Increase the number of iterations (max_iter) or scale the data as shown in:\n",
      "    https://scikit-learn.org/stable/modules/preprocessing.html\n",
      "Please also refer to the documentation for alternative solver options:\n",
      "    https://scikit-learn.org/stable/modules/linear_model.html#logistic-regression\n",
      "  n_iter_i = _check_optimize_result(\n"
     ]
    }
   ],
   "source": [
    "#Objective 7.\n",
    "#Instantiate the Logistic Regression model object, and use its \".fit(*args)\" method to fit the model to the \n",
    "#training data.\n",
    "\n",
    "logistic = LogisticRegression()\n",
    "logistic = logistic.fit(X_train, y_train)"
   ]
  },
  {
   "cell_type": "code",
   "execution_count": 9,
   "metadata": {},
   "outputs": [
    {
     "data": {
      "text/html": [
       "<div>\n",
       "<style scoped>\n",
       "    .dataframe tbody tr th:only-of-type {\n",
       "        vertical-align: middle;\n",
       "    }\n",
       "\n",
       "    .dataframe tbody tr th {\n",
       "        vertical-align: top;\n",
       "    }\n",
       "\n",
       "    .dataframe thead th {\n",
       "        text-align: right;\n",
       "    }\n",
       "</style>\n",
       "<table border=\"1\" class=\"dataframe\">\n",
       "  <thead>\n",
       "    <tr style=\"text-align: right;\">\n",
       "      <th></th>\n",
       "      <th>0</th>\n",
       "      <th>1</th>\n",
       "    </tr>\n",
       "  </thead>\n",
       "  <tbody>\n",
       "    <tr>\n",
       "      <th>0</th>\n",
       "      <td>Open</td>\n",
       "      <td>[0.22920341557849794]</td>\n",
       "    </tr>\n",
       "    <tr>\n",
       "      <th>1</th>\n",
       "      <td>High</td>\n",
       "      <td>[-0.16249512211291442]</td>\n",
       "    </tr>\n",
       "    <tr>\n",
       "      <th>2</th>\n",
       "      <td>Low</td>\n",
       "      <td>[-0.1237365042645492]</td>\n",
       "    </tr>\n",
       "    <tr>\n",
       "      <th>3</th>\n",
       "      <td>Close</td>\n",
       "      <td>[0.0676583754580711]</td>\n",
       "    </tr>\n",
       "    <tr>\n",
       "      <th>4</th>\n",
       "      <td>Close_15_Rolling</td>\n",
       "      <td>[-0.013775955832831978]</td>\n",
       "    </tr>\n",
       "    <tr>\n",
       "      <th>5</th>\n",
       "      <td>Open_1_Change</td>\n",
       "      <td>[-0.012211347002545838]</td>\n",
       "    </tr>\n",
       "  </tbody>\n",
       "</table>\n",
       "</div>"
      ],
      "text/plain": [
       "                  0                        1\n",
       "0              Open    [0.22920341557849794]\n",
       "1              High   [-0.16249512211291442]\n",
       "2               Low    [-0.1237365042645492]\n",
       "3             Close     [0.0676583754580711]\n",
       "4  Close_15_Rolling  [-0.013775955832831978]\n",
       "5     Open_1_Change  [-0.012211347002545838]"
      ]
     },
     "execution_count": 9,
     "metadata": {},
     "output_type": "execute_result"
    }
   ],
   "source": [
    "#Objective 8.\n",
    "#Examine the model's coefficients by using its \".coef_\" method.\n",
    "\n",
    "pd.DataFrame(zip(X.columns, np.transpose(logistic.coef_))) # beta"
   ]
  },
  {
   "cell_type": "code",
   "execution_count": 10,
   "metadata": {},
   "outputs": [],
   "source": [
    "#Objective 9.\n",
    "#Use the model's \".predict_proba(*args)\" and \".predict(*args)\" methods to generate predictions over the test set.\n",
    "\n",
    "probabilities = logistic.predict_proba(X_test)\n",
    "predictions = logistic.predict(X_test)"
   ]
  },
  {
   "cell_type": "code",
   "execution_count": 11,
   "metadata": {},
   "outputs": [
    {
     "data": {
      "text/plain": [
       "array([[24, 87],\n",
       "       [18, 95]], dtype=int64)"
      ]
     },
     "execution_count": 11,
     "metadata": {},
     "output_type": "execute_result"
    }
   ],
   "source": [
    "#Objective 10.\n",
    "#Use the function \"metrics.confusion_matrix(*args)\" to create a confusion matrix comparing the predicted and true\n",
    "#classification labels over the test set.\n",
    "\n",
    "metrics.confusion_matrix(y_test, predictions)"
   ]
  },
  {
   "cell_type": "code",
   "execution_count": 12,
   "metadata": {},
   "outputs": [
    {
     "data": {
      "text/plain": [
       "0.53125"
      ]
     },
     "execution_count": 12,
     "metadata": {},
     "output_type": "execute_result"
    }
   ],
   "source": [
    "#Objective 11.\n",
    "#Calculate the model's accuracy on the test set using its \".score(*args)\" method.\n",
    "\n",
    "logistic.score(X_test, y_test)"
   ]
  },
  {
   "cell_type": "code",
   "execution_count": 13,
   "metadata": {},
   "outputs": [
    {
     "name": "stderr",
     "output_type": "stream",
     "text": [
      "C:\\Users\\buhli\\anaconda3\\lib\\site-packages\\sklearn\\linear_model\\_logistic.py:763: ConvergenceWarning: lbfgs failed to converge (status=1):\n",
      "STOP: TOTAL NO. of ITERATIONS REACHED LIMIT.\n",
      "\n",
      "Increase the number of iterations (max_iter) or scale the data as shown in:\n",
      "    https://scikit-learn.org/stable/modules/preprocessing.html\n",
      "Please also refer to the documentation for alternative solver options:\n",
      "    https://scikit-learn.org/stable/modules/linear_model.html#logistic-regression\n",
      "  n_iter_i = _check_optimize_result(\n",
      "C:\\Users\\buhli\\anaconda3\\lib\\site-packages\\sklearn\\linear_model\\_logistic.py:763: ConvergenceWarning: lbfgs failed to converge (status=1):\n",
      "STOP: TOTAL NO. of ITERATIONS REACHED LIMIT.\n",
      "\n",
      "Increase the number of iterations (max_iter) or scale the data as shown in:\n",
      "    https://scikit-learn.org/stable/modules/preprocessing.html\n",
      "Please also refer to the documentation for alternative solver options:\n",
      "    https://scikit-learn.org/stable/modules/linear_model.html#logistic-regression\n",
      "  n_iter_i = _check_optimize_result(\n",
      "C:\\Users\\buhli\\anaconda3\\lib\\site-packages\\sklearn\\linear_model\\_logistic.py:763: ConvergenceWarning: lbfgs failed to converge (status=1):\n",
      "STOP: TOTAL NO. of ITERATIONS REACHED LIMIT.\n",
      "\n",
      "Increase the number of iterations (max_iter) or scale the data as shown in:\n",
      "    https://scikit-learn.org/stable/modules/preprocessing.html\n",
      "Please also refer to the documentation for alternative solver options:\n",
      "    https://scikit-learn.org/stable/modules/linear_model.html#logistic-regression\n",
      "  n_iter_i = _check_optimize_result(\n"
     ]
    }
   ],
   "source": [
    "#Objective 12.\n",
    "#Use five-fold cross validation to cross-check the accuracy of the model over different held-out test sets.  This\n",
    "#is where you should use the function \"cross_val_score(*args)\".\n",
    "\n",
    "cross_val = cross_val_score(LogisticRegression(), X, y, cv=5)"
   ]
  },
  {
   "cell_type": "code",
   "execution_count": 14,
   "metadata": {},
   "outputs": [
    {
     "data": {
      "text/plain": [
       "array([0.51006711, 0.53020134, 0.56375839, 0.53691275, 0.54054054])"
      ]
     },
     "execution_count": 14,
     "metadata": {},
     "output_type": "execute_result"
    }
   ],
   "source": [
    "cross_val"
   ]
  },
  {
   "cell_type": "code",
   "execution_count": 15,
   "metadata": {},
   "outputs": [
    {
     "data": {
      "text/plain": [
       "0.5362960275711954"
      ]
     },
     "execution_count": 15,
     "metadata": {},
     "output_type": "execute_result"
    }
   ],
   "source": [
    "cross_val.mean()"
   ]
  },
  {
   "cell_type": "code",
   "execution_count": null,
   "metadata": {},
   "outputs": [],
   "source": []
  }
 ],
 "metadata": {
  "kernelspec": {
   "display_name": "Python 3",
   "language": "python",
   "name": "python3"
  },
  "language_info": {
   "codemirror_mode": {
    "name": "ipython",
    "version": 3
   },
   "file_extension": ".py",
   "mimetype": "text/x-python",
   "name": "python",
   "nbconvert_exporter": "python",
   "pygments_lexer": "ipython3",
   "version": "3.8.8"
  }
 },
 "nbformat": 4,
 "nbformat_minor": 4
}
